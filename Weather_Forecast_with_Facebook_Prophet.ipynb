{
  "nbformat": 4,
  "nbformat_minor": 0,
  "metadata": {
    "colab": {
      "name": "Weather_Forecast_with_Facebook_Prophet.ipynb",
      "provenance": [],
      "collapsed_sections": [],
      "authorship_tag": "ABX9TyNh/ANYfuNW3oU4ApcWdoXf"
    },
    "kernelspec": {
      "name": "python3",
      "display_name": "Python 3"
    }
  },
  "cells": [
    {
      "cell_type": "markdown",
      "metadata": {
        "id": "wi1CP77xusD6",
        "colab_type": "text"
      },
      "source": [
        "# **Weather Forecast with Facebook Prophet**"
      ]
    },
    {
      "cell_type": "markdown",
      "metadata": {
        "id": "kAmkJsYyvTkS",
        "colab_type": "text"
      },
      "source": [
        "**Intuition:** We will be creating a model with Facebook's Prophet library to forecast our scraped weather data. Go to: https://facebook.github.io/prophet/ to learn more about Prophet. "
      ]
    },
    {
      "cell_type": "markdown",
      "metadata": {
        "id": "1K0Ij7rOxX4i",
        "colab_type": "text"
      },
      "source": [
        "### Importing the libraries"
      ]
    },
    {
      "cell_type": "code",
      "metadata": {
        "id": "MrdMYxBycZN3",
        "colab_type": "code",
        "colab": {}
      },
      "source": [
        "import warnings\n",
        "warnings.filterwarnings('ignore')\n",
        "import urllib\n",
        "import json\n",
        "import pandas as pd\n",
        "import matplotlib.pyplot as plt\n",
        "from statsmodels.tsa.stattools import adfuller\n",
        "from statsmodels.tsa.seasonal import seasonal_decompose\n",
        "from fbprophet import Prophet\n",
        "from statsmodels.tools.eval_measures import rmse\n",
        "from fbprophet.diagnostics import cross_validation, performance_metrics\n",
        "from fbprophet.plot import plot_cross_validation_metric"
      ],
      "execution_count": 0,
      "outputs": []
    },
    {
      "cell_type": "markdown",
      "metadata": {
        "id": "KgJJwtybyvtZ",
        "colab_type": "text"
      },
      "source": [
        "### Scraping weather data from Mesowest & creating a dataframe"
      ]
    },
    {
      "cell_type": "code",
      "metadata": {
        "id": "t9Q2FF_ho4Ps",
        "colab_type": "code",
        "colab": {
          "base_uri": "https://localhost:8080/",
          "height": 204
        },
        "outputId": "7a5f8940-4704-4f89-bc05-72f9e5d8f48f"
      },
      "source": [
        "args = {'start':'201603010000',\n",
        "'end':'202003010000', # We will be scraping four years of data\n",
        "'obtimezone':'UTC',\n",
        "'vars':'air_temp',\n",
        "'stids':'KVIS', # This ID represents the weather station at Visalia Municipal Airport near California\n",
        "'units':'temp|C',\n",
        "'token':'d07a1d10618447c48e2dfea41dfc52de'}\n",
        "\n",
        "apiString = urllib.parse.urlencode(args)\n",
        "url = \"http://api.mesowest.net/v2/stations/timeseries\"\n",
        "full_url = '{}?{}'.format(url, apiString)\n",
        "response = urllib.request.urlopen(full_url)\n",
        "response_dict = json.loads(response.read())\n",
        "\n",
        "date_time = response_dict['STATION'][0]['OBSERVATIONS']['date_time']\n",
        "temperature = response_dict['STATION'][0]['OBSERVATIONS']['air_temp_set_1']\n",
        "dataset = pd.DataFrame(temperature, index=pd.to_datetime(date_time), columns = ['Temperature'])\n",
        "dataset.head()"
      ],
      "execution_count": 2,
      "outputs": [
        {
          "output_type": "execute_result",
          "data": {
            "text/html": [
              "<div>\n",
              "<style scoped>\n",
              "    .dataframe tbody tr th:only-of-type {\n",
              "        vertical-align: middle;\n",
              "    }\n",
              "\n",
              "    .dataframe tbody tr th {\n",
              "        vertical-align: top;\n",
              "    }\n",
              "\n",
              "    .dataframe thead th {\n",
              "        text-align: right;\n",
              "    }\n",
              "</style>\n",
              "<table border=\"1\" class=\"dataframe\">\n",
              "  <thead>\n",
              "    <tr style=\"text-align: right;\">\n",
              "      <th></th>\n",
              "      <th>Temperature</th>\n",
              "    </tr>\n",
              "  </thead>\n",
              "  <tbody>\n",
              "    <tr>\n",
              "      <th>2016-03-01 00:56:00+00:00</th>\n",
              "      <td>20.6</td>\n",
              "    </tr>\n",
              "    <tr>\n",
              "      <th>2016-03-01 01:56:00+00:00</th>\n",
              "      <td>18.3</td>\n",
              "    </tr>\n",
              "    <tr>\n",
              "      <th>2016-03-01 02:56:00+00:00</th>\n",
              "      <td>15.0</td>\n",
              "    </tr>\n",
              "    <tr>\n",
              "      <th>2016-03-01 03:56:00+00:00</th>\n",
              "      <td>14.4</td>\n",
              "    </tr>\n",
              "    <tr>\n",
              "      <th>2016-03-01 04:56:00+00:00</th>\n",
              "      <td>13.9</td>\n",
              "    </tr>\n",
              "  </tbody>\n",
              "</table>\n",
              "</div>"
            ],
            "text/plain": [
              "                           Temperature\n",
              "2016-03-01 00:56:00+00:00         20.6\n",
              "2016-03-01 01:56:00+00:00         18.3\n",
              "2016-03-01 02:56:00+00:00         15.0\n",
              "2016-03-01 03:56:00+00:00         14.4\n",
              "2016-03-01 04:56:00+00:00         13.9"
            ]
          },
          "metadata": {
            "tags": []
          },
          "execution_count": 2
        }
      ]
    },
    {
      "cell_type": "markdown",
      "metadata": {
        "id": "XxE1wvES4B-X",
        "colab_type": "text"
      },
      "source": [
        "### Resampling the data based on days."
      ]
    },
    {
      "cell_type": "code",
      "metadata": {
        "id": "bGxgdhHNqS0q",
        "colab_type": "code",
        "colab": {
          "base_uri": "https://localhost:8080/",
          "height": 51
        },
        "outputId": "2897c439-f40d-4e76-b7f7-7a0555e6c25b"
      },
      "source": [
        "dataset_res = dataset.resample('D').mean()\n",
        "dataset_res.count()"
      ],
      "execution_count": 3,
      "outputs": [
        {
          "output_type": "execute_result",
          "data": {
            "text/plain": [
              "Temperature    1462\n",
              "dtype: int64"
            ]
          },
          "metadata": {
            "tags": []
          },
          "execution_count": 3
        }
      ]
    },
    {
      "cell_type": "code",
      "metadata": {
        "id": "WLumLtTk1dki",
        "colab_type": "code",
        "colab": {
          "base_uri": "https://localhost:8080/",
          "height": 221
        },
        "outputId": "21a3103f-fa4c-4f44-8bc4-b4c0ef7884dd"
      },
      "source": [
        "dataset_res.index"
      ],
      "execution_count": 4,
      "outputs": [
        {
          "output_type": "execute_result",
          "data": {
            "text/plain": [
              "DatetimeIndex(['2016-03-01 00:00:00+00:00', '2016-03-02 00:00:00+00:00',\n",
              "               '2016-03-03 00:00:00+00:00', '2016-03-04 00:00:00+00:00',\n",
              "               '2016-03-05 00:00:00+00:00', '2016-03-06 00:00:00+00:00',\n",
              "               '2016-03-07 00:00:00+00:00', '2016-03-08 00:00:00+00:00',\n",
              "               '2016-03-09 00:00:00+00:00', '2016-03-10 00:00:00+00:00',\n",
              "               ...\n",
              "               '2020-02-21 00:00:00+00:00', '2020-02-22 00:00:00+00:00',\n",
              "               '2020-02-23 00:00:00+00:00', '2020-02-24 00:00:00+00:00',\n",
              "               '2020-02-25 00:00:00+00:00', '2020-02-26 00:00:00+00:00',\n",
              "               '2020-02-27 00:00:00+00:00', '2020-02-28 00:00:00+00:00',\n",
              "               '2020-02-29 00:00:00+00:00', '2020-03-01 00:00:00+00:00'],\n",
              "              dtype='datetime64[ns, UTC]', length=1462, freq='D')"
            ]
          },
          "metadata": {
            "tags": []
          },
          "execution_count": 4
        }
      ]
    },
    {
      "cell_type": "markdown",
      "metadata": {
        "id": "kAOzPjEEzmKt",
        "colab_type": "text"
      },
      "source": [
        "### Plotting the dataset"
      ]
    },
    {
      "cell_type": "code",
      "metadata": {
        "id": "tLOAbRerrS0-",
        "colab_type": "code",
        "colab": {
          "base_uri": "https://localhost:8080/",
          "height": 408
        },
        "outputId": "69af6b25-8180-4ce7-fa78-30f1e33ef8c9"
      },
      "source": [
        "pd.plotting.register_matplotlib_converters() # Run if encounter error while plotting\n",
        "dataset_res.plot(figsize = (20, 6), color = 'darkorange')"
      ],
      "execution_count": 5,
      "outputs": [
        {
          "output_type": "stream",
          "text": [
            "INFO:numexpr.utils:NumExpr defaulting to 2 threads.\n"
          ],
          "name": "stderr"
        },
        {
          "output_type": "execute_result",
          "data": {
            "text/plain": [
              "<matplotlib.axes._subplots.AxesSubplot at 0x7fdff8bbefd0>"
            ]
          },
          "metadata": {
            "tags": []
          },
          "execution_count": 5
        },
        {
          "output_type": "display_data",
          "data": {
            "image/png": "[encoded data removed]",
            "text/plain": [
              "<Figure size 1440x432 with 1 Axes>"
            ]
          },
          "metadata": {
            "tags": []
          }
        }
      ]
    },
    {
      "cell_type": "markdown",
      "metadata": {
        "id": "b4o_ZOT3zsD3",
        "colab_type": "text"
      },
      "source": [
        "### Checking for stationarity with ADFuller Test"
      ]
    },
    {
      "cell_type": "code",
      "metadata": {
        "id": "4kOedmgU0Ggt",
        "colab_type": "code",
        "colab": {
          "base_uri": "https://localhost:8080/",
          "height": 204
        },
        "outputId": "a47523dd-e03b-46ff-9b60-f00ec464c4b7"
      },
      "source": [
        "def adf_test(series, title = ''): # Pass in a time-series & an optional title. Returns an ADF Report.\n",
        "    print(f'Augmented Dickey-Fuller Test: {title}')\n",
        "    result = adfuller(series.dropna(), autolag = 'AIC') # **dropna()** handles differenced data.\n",
        "    labels = ['ADF Test Statistics', 'p-value', 'Number of Lags Used', 'Number of Observations Used']\n",
        "    out = pd.Series(result[0:4], index = labels)\n",
        "    \n",
        "    for key, value in result[4].items():\n",
        "        out[f'Critical Value (%s)'% key] = value\n",
        "    print(out.to_string()) # **to_string** removes the line **dtype: float64**\n",
        "    \n",
        "    if result[1] <= 0.05:\n",
        "        print('Strong evidence against the null hypothesis',\n",
        "              '\\nReject the null hypothesis',\n",
        "              '\\nData has no unit root & is stationary')\n",
        "    else:\n",
        "        print('Weak evidence against the null hypothesis',\n",
        "              '\\nFail to reject the null hypothesis',\n",
        "              '\\nData has a unit root & is non-stationary')\n",
        "adf_test(dataset_res['Temperature'], title = 'Temperature')"
      ],
      "execution_count": 6,
      "outputs": [
        {
          "output_type": "stream",
          "text": [
            "Augmented Dickey-Fuller Test: Temperature\n",
            "ADF Test Statistics              -2.190286\n",
            "p-value                           0.209790\n",
            "Number of Lags Used              16.000000\n",
            "Number of Observations Used    1445.000000\n",
            "Critical Value (1%)              -3.434884\n",
            "Critical Value (5%)              -2.863542\n",
            "Critical Value (10%)             -2.567836\n",
            "Weak evidence against the null hypothesis \n",
            "Fail to reject the null hypothesis \n",
            "Data has a unit root & is non-stationary\n"
          ],
          "name": "stdout"
        }
      ]
    },
    {
      "cell_type": "markdown",
      "metadata": {
        "id": "IYhT7BVK5Alm",
        "colab_type": "text"
      },
      "source": [
        "### ETS Decomposition"
      ]
    },
    {
      "cell_type": "code",
      "metadata": {
        "id": "zX_eeuUo08ED",
        "colab_type": "code",
        "colab": {
          "base_uri": "https://localhost:8080/",
          "height": 297
        },
        "outputId": "059ed209-e257-4f2c-da2a-dfa2b2460950"
      },
      "source": [
        "result = seasonal_decompose(dataset_res['Temperature'], model='multiplicative')  # model='mul' also works\n",
        "result.plot();"
      ],
      "execution_count": 7,
      "outputs": [
        {
          "output_type": "display_data",
          "data": {
            "image/png": "[encoded data removed]",
            "text/plain": [
              "<Figure size 432x288 with 4 Axes>"
            ]
          },
          "metadata": {
            "tags": []
          }
        }
      ]
    },
    {
      "cell_type": "markdown",
      "metadata": {
        "id": "HVEtvlr9-wMP",
        "colab_type": "text"
      },
      "source": [
        "### Formating the data to make it compatible for Prophet"
      ]
    },
    {
      "cell_type": "code",
      "metadata": {
        "id": "HrzQQXaI5Gxo",
        "colab_type": "code",
        "colab": {
          "base_uri": "https://localhost:8080/",
          "height": 204
        },
        "outputId": "74f4368a-72e3-409c-99d8-7783308bdba3"
      },
      "source": [
        "dataset_fin = dataset_res['Temperature']\n",
        "dataset_fin = dataset_fin.reset_index()\n",
        "dataset_fin.columns = ['ds', 'y']\n",
        "dataset_fin['ds'] = dataset_fin['ds'].dt.strftime('%Y-%m-%d')\n",
        "dataset_fin.head()"
      ],
      "execution_count": 8,
      "outputs": [
        {
          "output_type": "execute_result",
          "data": {
            "text/html": [
              "<div>\n",
              "<style scoped>\n",
              "    .dataframe tbody tr th:only-of-type {\n",
              "        vertical-align: middle;\n",
              "    }\n",
              "\n",
              "    .dataframe tbody tr th {\n",
              "        vertical-align: top;\n",
              "    }\n",
              "\n",
              "    .dataframe thead th {\n",
              "        text-align: right;\n",
              "    }\n",
              "</style>\n",
              "<table border=\"1\" class=\"dataframe\">\n",
              "  <thead>\n",
              "    <tr style=\"text-align: right;\">\n",
              "      <th></th>\n",
              "      <th>ds</th>\n",
              "      <th>y</th>\n",
              "    </tr>\n",
              "  </thead>\n",
              "  <tbody>\n",
              "    <tr>\n",
              "      <th>0</th>\n",
              "      <td>2016-03-01</td>\n",
              "      <td>15.147826</td>\n",
              "    </tr>\n",
              "    <tr>\n",
              "      <th>1</th>\n",
              "      <td>2016-03-02</td>\n",
              "      <td>13.355172</td>\n",
              "    </tr>\n",
              "    <tr>\n",
              "      <th>2</th>\n",
              "      <td>2016-03-03</td>\n",
              "      <td>13.258065</td>\n",
              "    </tr>\n",
              "    <tr>\n",
              "      <th>3</th>\n",
              "      <td>2016-03-04</td>\n",
              "      <td>15.208000</td>\n",
              "    </tr>\n",
              "    <tr>\n",
              "      <th>4</th>\n",
              "      <td>2016-03-05</td>\n",
              "      <td>16.155556</td>\n",
              "    </tr>\n",
              "  </tbody>\n",
              "</table>\n",
              "</div>"
            ],
            "text/plain": [
              "           ds          y\n",
              "0  2016-03-01  15.147826\n",
              "1  2016-03-02  13.355172\n",
              "2  2016-03-03  13.258065\n",
              "3  2016-03-04  15.208000\n",
              "4  2016-03-05  16.155556"
            ]
          },
          "metadata": {
            "tags": []
          },
          "execution_count": 8
        }
      ]
    },
    {
      "cell_type": "markdown",
      "metadata": {
        "id": "Nk45FFYsxyMW",
        "colab_type": "text"
      },
      "source": [
        "### Splitting the data into training & test sets"
      ]
    },
    {
      "cell_type": "code",
      "metadata": {
        "id": "JAPr8k2m87bm",
        "colab_type": "code",
        "colab": {}
      },
      "source": [
        "train = dataset_fin.iloc[:len(dataset_fin)-30]\n",
        "test = dataset_fin.iloc[len(dataset_fin)-30:] # Last 30 Days"
      ],
      "execution_count": 0,
      "outputs": []
    },
    {
      "cell_type": "markdown",
      "metadata": {
        "id": "OVJ3WUZ5Qd8E",
        "colab_type": "text"
      },
      "source": [
        "### Fitting a Prophet model onto the training set"
      ]
    },
    {
      "cell_type": "code",
      "metadata": {
        "id": "XvqnHBpK9Dh7",
        "colab_type": "code",
        "colab": {
          "base_uri": "https://localhost:8080/",
          "height": 51
        },
        "outputId": "f876659b-1994-47fc-8b2d-a998de8f5278"
      },
      "source": [
        "model = Prophet()\n",
        "model.fit(train)"
      ],
      "execution_count": 10,
      "outputs": [
        {
          "output_type": "stream",
          "text": [
            "INFO:fbprophet:Disabling daily seasonality. Run prophet with daily_seasonality=True to override this.\n"
          ],
          "name": "stderr"
        },
        {
          "output_type": "execute_result",
          "data": {
            "text/plain": [
              "<fbprophet.forecaster.Prophet at 0x7fdff317f828>"
            ]
          },
          "metadata": {
            "tags": []
          },
          "execution_count": 10
        }
      ]
    },
    {
      "cell_type": "markdown",
      "metadata": {
        "id": "fQZbJXWLQzFm",
        "colab_type": "text"
      },
      "source": [
        "### Predicting the Test results\n"
      ]
    },
    {
      "cell_type": "code",
      "metadata": {
        "id": "IegxJc0_ABZj",
        "colab_type": "code",
        "colab": {
          "base_uri": "https://localhost:8080/",
          "height": 1000
        },
        "outputId": "c32207bf-b932-44e8-e4f5-4af89a581c11"
      },
      "source": [
        "future = model.make_future_dataframe(periods = len(test), freq = 'D') # Placeholder for the predictions\n",
        "predictions = model.predict(future)\n",
        "predictions.tail(len(test))"
      ],
      "execution_count": 11,
      "outputs": [
        {
          "output_type": "execute_result",
          "data": {
            "text/html": [
              "<div>\n",
              "<style scoped>\n",
              "    .dataframe tbody tr th:only-of-type {\n",
              "        vertical-align: middle;\n",
              "    }\n",
              "\n",
              "    .dataframe tbody tr th {\n",
              "        vertical-align: top;\n",
              "    }\n",
              "\n",
              "    .dataframe thead th {\n",
              "        text-align: right;\n",
              "    }\n",
              "</style>\n",
              "<table border=\"1\" class=\"dataframe\">\n",
              "  <thead>\n",
              "    <tr style=\"text-align: right;\">\n",
              "      <th></th>\n",
              "      <th>ds</th>\n",
              "      <th>trend</th>\n",
              "      <th>yhat_lower</th>\n",
              "      <th>yhat_upper</th>\n",
              "      <th>trend_lower</th>\n",
              "      <th>trend_upper</th>\n",
              "      <th>additive_terms</th>\n",
              "      <th>additive_terms_lower</th>\n",
              "      <th>additive_terms_upper</th>\n",
              "      <th>weekly</th>\n",
              "      <th>weekly_lower</th>\n",
              "      <th>weekly_upper</th>\n",
              "      <th>yearly</th>\n",
              "      <th>yearly_lower</th>\n",
              "      <th>yearly_upper</th>\n",
              "      <th>multiplicative_terms</th>\n",
              "      <th>multiplicative_terms_lower</th>\n",
              "      <th>multiplicative_terms_upper</th>\n",
              "      <th>yhat</th>\n",
              "    </tr>\n",
              "  </thead>\n",
              "  <tbody>\n",
              "    <tr>\n",
              "      <th>1432</th>\n",
              "      <td>2020-02-01</td>\n",
              "      <td>17.243027</td>\n",
              "      <td>6.147868</td>\n",
              "      <td>13.143973</td>\n",
              "      <td>17.243027</td>\n",
              "      <td>17.243027</td>\n",
              "      <td>-7.670668</td>\n",
              "      <td>-7.670668</td>\n",
              "      <td>-7.670668</td>\n",
              "      <td>-0.040658</td>\n",
              "      <td>-0.040658</td>\n",
              "      <td>-0.040658</td>\n",
              "      <td>-7.630010</td>\n",
              "      <td>-7.630010</td>\n",
              "      <td>-7.630010</td>\n",
              "      <td>0.0</td>\n",
              "      <td>0.0</td>\n",
              "      <td>0.0</td>\n",
              "      <td>9.572359</td>\n",
              "    </tr>\n",
              "    <tr>\n",
              "      <th>1433</th>\n",
              "      <td>2020-02-02</td>\n",
              "      <td>17.242280</td>\n",
              "      <td>6.083041</td>\n",
              "      <td>13.035172</td>\n",
              "      <td>17.242280</td>\n",
              "      <td>17.242280</td>\n",
              "      <td>-7.620338</td>\n",
              "      <td>-7.620338</td>\n",
              "      <td>-7.620338</td>\n",
              "      <td>-0.035253</td>\n",
              "      <td>-0.035253</td>\n",
              "      <td>-0.035253</td>\n",
              "      <td>-7.585085</td>\n",
              "      <td>-7.585085</td>\n",
              "      <td>-7.585085</td>\n",
              "      <td>0.0</td>\n",
              "      <td>0.0</td>\n",
              "      <td>0.0</td>\n",
              "      <td>9.621942</td>\n",
              "    </tr>\n",
              "    <tr>\n",
              "      <th>1434</th>\n",
              "      <td>2020-02-03</td>\n",
              "      <td>17.241533</td>\n",
              "      <td>5.995328</td>\n",
              "      <td>12.717946</td>\n",
              "      <td>17.241533</td>\n",
              "      <td>17.241533</td>\n",
              "      <td>-7.645833</td>\n",
              "      <td>-7.645833</td>\n",
              "      <td>-7.645833</td>\n",
              "      <td>-0.100176</td>\n",
              "      <td>-0.100176</td>\n",
              "      <td>-0.100176</td>\n",
              "      <td>-7.545657</td>\n",
              "      <td>-7.545657</td>\n",
              "      <td>-7.545657</td>\n",
              "      <td>0.0</td>\n",
              "      <td>0.0</td>\n",
              "      <td>0.0</td>\n",
              "      <td>9.595700</td>\n",
              "    </tr>\n",
              "    <tr>\n",
              "      <th>1435</th>\n",
              "      <td>2020-02-04</td>\n",
              "      <td>17.240786</td>\n",
              "      <td>6.187680</td>\n",
              "      <td>13.140741</td>\n",
              "      <td>17.240786</td>\n",
              "      <td>17.240786</td>\n",
              "      <td>-7.548385</td>\n",
              "      <td>-7.548385</td>\n",
              "      <td>-7.548385</td>\n",
              "      <td>-0.036011</td>\n",
              "      <td>-0.036011</td>\n",
              "      <td>-0.036011</td>\n",
              "      <td>-7.512374</td>\n",
              "      <td>-7.512374</td>\n",
              "      <td>-7.512374</td>\n",
              "      <td>0.0</td>\n",
              "      <td>0.0</td>\n",
              "      <td>0.0</td>\n",
              "      <td>9.692401</td>\n",
              "    </tr>\n",
              "    <tr>\n",
              "      <th>1436</th>\n",
              "      <td>2020-02-05</td>\n",
              "      <td>17.240039</td>\n",
              "      <td>6.412321</td>\n",
              "      <td>13.413601</td>\n",
              "      <td>17.240039</td>\n",
              "      <td>17.240039</td>\n",
              "      <td>-7.275861</td>\n",
              "      <td>-7.275861</td>\n",
              "      <td>-7.275861</td>\n",
              "      <td>0.209929</td>\n",
              "      <td>0.209929</td>\n",
              "      <td>0.209929</td>\n",
              "      <td>-7.485789</td>\n",
              "      <td>-7.485789</td>\n",
              "      <td>-7.485789</td>\n",
              "      <td>0.0</td>\n",
              "      <td>0.0</td>\n",
              "      <td>0.0</td>\n",
              "      <td>9.964178</td>\n",
              "    </tr>\n",
              "    <tr>\n",
              "      <th>1437</th>\n",
              "      <td>2020-02-06</td>\n",
              "      <td>17.239292</td>\n",
              "      <td>6.458906</td>\n",
              "      <td>13.221064</td>\n",
              "      <td>17.239292</td>\n",
              "      <td>17.239292</td>\n",
              "      <td>-7.330977</td>\n",
              "      <td>-7.330977</td>\n",
              "      <td>-7.330977</td>\n",
              "      <td>0.135369</td>\n",
              "      <td>0.135369</td>\n",
              "      <td>0.135369</td>\n",
              "      <td>-7.466346</td>\n",
              "      <td>-7.466346</td>\n",
              "      <td>-7.466346</td>\n",
              "      <td>0.0</td>\n",
              "      <td>0.0</td>\n",
              "      <td>0.0</td>\n",
              "      <td>9.908316</td>\n",
              "    </tr>\n",
              "    <tr>\n",
              "      <th>1438</th>\n",
              "      <td>2020-02-07</td>\n",
              "      <td>17.238545</td>\n",
              "      <td>6.189565</td>\n",
              "      <td>12.941151</td>\n",
              "      <td>17.238545</td>\n",
              "      <td>17.238545</td>\n",
              "      <td>-7.587542</td>\n",
              "      <td>-7.587542</td>\n",
              "      <td>-7.587542</td>\n",
              "      <td>-0.133200</td>\n",
              "      <td>-0.133200</td>\n",
              "      <td>-0.133200</td>\n",
              "      <td>-7.454343</td>\n",
              "      <td>-7.454343</td>\n",
              "      <td>-7.454343</td>\n",
              "      <td>0.0</td>\n",
              "      <td>0.0</td>\n",
              "      <td>0.0</td>\n",
              "      <td>9.651003</td>\n",
              "    </tr>\n",
              "    <tr>\n",
              "      <th>1439</th>\n",
              "      <td>2020-02-08</td>\n",
              "      <td>17.237798</td>\n",
              "      <td>6.011050</td>\n",
              "      <td>13.285062</td>\n",
              "      <td>17.237798</td>\n",
              "      <td>17.237798</td>\n",
              "      <td>-7.490577</td>\n",
              "      <td>-7.490577</td>\n",
              "      <td>-7.490577</td>\n",
              "      <td>-0.040658</td>\n",
              "      <td>-0.040658</td>\n",
              "      <td>-0.040658</td>\n",
              "      <td>-7.449919</td>\n",
              "      <td>-7.449919</td>\n",
              "      <td>-7.449919</td>\n",
              "      <td>0.0</td>\n",
              "      <td>0.0</td>\n",
              "      <td>0.0</td>\n",
              "      <td>9.747222</td>\n",
              "    </tr>\n",
              "    <tr>\n",
              "      <th>1440</th>\n",
              "      <td>2020-02-09</td>\n",
              "      <td>17.237052</td>\n",
              "      <td>6.134607</td>\n",
              "      <td>13.462164</td>\n",
              "      <td>17.237052</td>\n",
              "      <td>17.237052</td>\n",
              "      <td>-7.488283</td>\n",
              "      <td>-7.488283</td>\n",
              "      <td>-7.488283</td>\n",
              "      <td>-0.035253</td>\n",
              "      <td>-0.035253</td>\n",
              "      <td>-0.035253</td>\n",
              "      <td>-7.453030</td>\n",
              "      <td>-7.453030</td>\n",
              "      <td>-7.453030</td>\n",
              "      <td>0.0</td>\n",
              "      <td>0.0</td>\n",
              "      <td>0.0</td>\n",
              "      <td>9.748768</td>\n",
              "    </tr>\n",
              "    <tr>\n",
              "      <th>1441</th>\n",
              "      <td>2020-02-10</td>\n",
              "      <td>17.236305</td>\n",
              "      <td>6.374856</td>\n",
              "      <td>13.153634</td>\n",
              "      <td>17.236305</td>\n",
              "      <td>17.236305</td>\n",
              "      <td>-7.563615</td>\n",
              "      <td>-7.563615</td>\n",
              "      <td>-7.563615</td>\n",
              "      <td>-0.100176</td>\n",
              "      <td>-0.100176</td>\n",
              "      <td>-0.100176</td>\n",
              "      <td>-7.463439</td>\n",
              "      <td>-7.463439</td>\n",
              "      <td>-7.463439</td>\n",
              "      <td>0.0</td>\n",
              "      <td>0.0</td>\n",
              "      <td>0.0</td>\n",
              "      <td>9.672690</td>\n",
              "    </tr>\n",
              "    <tr>\n",
              "      <th>1442</th>\n",
              "      <td>2020-02-11</td>\n",
              "      <td>17.235558</td>\n",
              "      <td>6.241006</td>\n",
              "      <td>13.548731</td>\n",
              "      <td>17.235558</td>\n",
              "      <td>17.235558</td>\n",
              "      <td>-7.516709</td>\n",
              "      <td>-7.516709</td>\n",
              "      <td>-7.516709</td>\n",
              "      <td>-0.036011</td>\n",
              "      <td>-0.036011</td>\n",
              "      <td>-0.036011</td>\n",
              "      <td>-7.480698</td>\n",
              "      <td>-7.480698</td>\n",
              "      <td>-7.480698</td>\n",
              "      <td>0.0</td>\n",
              "      <td>0.0</td>\n",
              "      <td>0.0</td>\n",
              "      <td>9.718848</td>\n",
              "    </tr>\n",
              "    <tr>\n",
              "      <th>1443</th>\n",
              "      <td>2020-02-12</td>\n",
              "      <td>17.234811</td>\n",
              "      <td>6.473541</td>\n",
              "      <td>13.176248</td>\n",
              "      <td>17.234811</td>\n",
              "      <td>17.234811</td>\n",
              "      <td>-7.294223</td>\n",
              "      <td>-7.294223</td>\n",
              "      <td>-7.294223</td>\n",
              "      <td>0.209929</td>\n",
              "      <td>0.209929</td>\n",
              "      <td>0.209929</td>\n",
              "      <td>-7.504152</td>\n",
              "      <td>-7.504152</td>\n",
              "      <td>-7.504152</td>\n",
              "      <td>0.0</td>\n",
              "      <td>0.0</td>\n",
              "      <td>0.0</td>\n",
              "      <td>9.940588</td>\n",
              "    </tr>\n",
              "    <tr>\n",
              "      <th>1444</th>\n",
              "      <td>2020-02-13</td>\n",
              "      <td>17.234064</td>\n",
              "      <td>6.524052</td>\n",
              "      <td>13.287989</td>\n",
              "      <td>17.234064</td>\n",
              "      <td>17.234064</td>\n",
              "      <td>-7.397562</td>\n",
              "      <td>-7.397562</td>\n",
              "      <td>-7.397562</td>\n",
              "      <td>0.135369</td>\n",
              "      <td>0.135369</td>\n",
              "      <td>0.135369</td>\n",
              "      <td>-7.532931</td>\n",
              "      <td>-7.532931</td>\n",
              "      <td>-7.532931</td>\n",
              "      <td>0.0</td>\n",
              "      <td>0.0</td>\n",
              "      <td>0.0</td>\n",
              "      <td>9.836502</td>\n",
              "    </tr>\n",
              "    <tr>\n",
              "      <th>1445</th>\n",
              "      <td>2020-02-14</td>\n",
              "      <td>17.233317</td>\n",
              "      <td>6.297398</td>\n",
              "      <td>12.956830</td>\n",
              "      <td>17.233317</td>\n",
              "      <td>17.233320</td>\n",
              "      <td>-7.699160</td>\n",
              "      <td>-7.699160</td>\n",
              "      <td>-7.699160</td>\n",
              "      <td>-0.133200</td>\n",
              "      <td>-0.133200</td>\n",
              "      <td>-0.133200</td>\n",
              "      <td>-7.565960</td>\n",
              "      <td>-7.565960</td>\n",
              "      <td>-7.565960</td>\n",
              "      <td>0.0</td>\n",
              "      <td>0.0</td>\n",
              "      <td>0.0</td>\n",
              "      <td>9.534157</td>\n",
              "    </tr>\n",
              "    <tr>\n",
              "      <th>1446</th>\n",
              "      <td>2020-02-15</td>\n",
              "      <td>17.232570</td>\n",
              "      <td>6.012968</td>\n",
              "      <td>13.045598</td>\n",
              "      <td>17.232563</td>\n",
              "      <td>17.232581</td>\n",
              "      <td>-7.642631</td>\n",
              "      <td>-7.642631</td>\n",
              "      <td>-7.642631</td>\n",
              "      <td>-0.040658</td>\n",
              "      <td>-0.040658</td>\n",
              "      <td>-0.040658</td>\n",
              "      <td>-7.601973</td>\n",
              "      <td>-7.601973</td>\n",
              "      <td>-7.601973</td>\n",
              "      <td>0.0</td>\n",
              "      <td>0.0</td>\n",
              "      <td>0.0</td>\n",
              "      <td>9.589939</td>\n",
              "    </tr>\n",
              "    <tr>\n",
              "      <th>1447</th>\n",
              "      <td>2020-02-16</td>\n",
              "      <td>17.231823</td>\n",
              "      <td>5.889305</td>\n",
              "      <td>12.865084</td>\n",
              "      <td>17.231811</td>\n",
              "      <td>17.231842</td>\n",
              "      <td>-7.674776</td>\n",
              "      <td>-7.674776</td>\n",
              "      <td>-7.674776</td>\n",
              "      <td>-0.035253</td>\n",
              "      <td>-0.035253</td>\n",
              "      <td>-0.035253</td>\n",
              "      <td>-7.639523</td>\n",
              "      <td>-7.639523</td>\n",
              "      <td>-7.639523</td>\n",
              "      <td>0.0</td>\n",
              "      <td>0.0</td>\n",
              "      <td>0.0</td>\n",
              "      <td>9.557047</td>\n",
              "    </tr>\n",
              "    <tr>\n",
              "      <th>1448</th>\n",
              "      <td>2020-02-17</td>\n",
              "      <td>17.231076</td>\n",
              "      <td>5.919837</td>\n",
              "      <td>13.044283</td>\n",
              "      <td>17.231056</td>\n",
              "      <td>17.231106</td>\n",
              "      <td>-7.777190</td>\n",
              "      <td>-7.777190</td>\n",
              "      <td>-7.777190</td>\n",
              "      <td>-0.100176</td>\n",
              "      <td>-0.100176</td>\n",
              "      <td>-0.100176</td>\n",
              "      <td>-7.677014</td>\n",
              "      <td>-7.677014</td>\n",
              "      <td>-7.677014</td>\n",
              "      <td>0.0</td>\n",
              "      <td>0.0</td>\n",
              "      <td>0.0</td>\n",
              "      <td>9.453887</td>\n",
              "    </tr>\n",
              "    <tr>\n",
              "      <th>1449</th>\n",
              "      <td>2020-02-18</td>\n",
              "      <td>17.230330</td>\n",
              "      <td>5.967615</td>\n",
              "      <td>12.993705</td>\n",
              "      <td>17.230303</td>\n",
              "      <td>17.230368</td>\n",
              "      <td>-7.748733</td>\n",
              "      <td>-7.748733</td>\n",
              "      <td>-7.748733</td>\n",
              "      <td>-0.036011</td>\n",
              "      <td>-0.036011</td>\n",
              "      <td>-0.036011</td>\n",
              "      <td>-7.712721</td>\n",
              "      <td>-7.712721</td>\n",
              "      <td>-7.712721</td>\n",
              "      <td>0.0</td>\n",
              "      <td>0.0</td>\n",
              "      <td>0.0</td>\n",
              "      <td>9.481597</td>\n",
              "    </tr>\n",
              "    <tr>\n",
              "      <th>1450</th>\n",
              "      <td>2020-02-19</td>\n",
              "      <td>17.229583</td>\n",
              "      <td>6.160471</td>\n",
              "      <td>13.266060</td>\n",
              "      <td>17.229545</td>\n",
              "      <td>17.229635</td>\n",
              "      <td>-7.534901</td>\n",
              "      <td>-7.534901</td>\n",
              "      <td>-7.534901</td>\n",
              "      <td>0.209929</td>\n",
              "      <td>0.209929</td>\n",
              "      <td>0.209929</td>\n",
              "      <td>-7.744830</td>\n",
              "      <td>-7.744830</td>\n",
              "      <td>-7.744830</td>\n",
              "      <td>0.0</td>\n",
              "      <td>0.0</td>\n",
              "      <td>0.0</td>\n",
              "      <td>9.694681</td>\n",
              "    </tr>\n",
              "    <tr>\n",
              "      <th>1451</th>\n",
              "      <td>2020-02-20</td>\n",
              "      <td>17.228836</td>\n",
              "      <td>6.059530</td>\n",
              "      <td>13.245668</td>\n",
              "      <td>17.228795</td>\n",
              "      <td>17.228900</td>\n",
              "      <td>-7.636099</td>\n",
              "      <td>-7.636099</td>\n",
              "      <td>-7.636099</td>\n",
              "      <td>0.135369</td>\n",
              "      <td>0.135369</td>\n",
              "      <td>0.135369</td>\n",
              "      <td>-7.771468</td>\n",
              "      <td>-7.771468</td>\n",
              "      <td>-7.771468</td>\n",
              "      <td>0.0</td>\n",
              "      <td>0.0</td>\n",
              "      <td>0.0</td>\n",
              "      <td>9.592737</td>\n",
              "    </tr>\n",
              "    <tr>\n",
              "      <th>1452</th>\n",
              "      <td>2020-02-21</td>\n",
              "      <td>17.228089</td>\n",
              "      <td>5.858333</td>\n",
              "      <td>12.504518</td>\n",
              "      <td>17.228038</td>\n",
              "      <td>17.228163</td>\n",
              "      <td>-7.923946</td>\n",
              "      <td>-7.923946</td>\n",
              "      <td>-7.923946</td>\n",
              "      <td>-0.133200</td>\n",
              "      <td>-0.133200</td>\n",
              "      <td>-0.133200</td>\n",
              "      <td>-7.790746</td>\n",
              "      <td>-7.790746</td>\n",
              "      <td>-7.790746</td>\n",
              "      <td>0.0</td>\n",
              "      <td>0.0</td>\n",
              "      <td>0.0</td>\n",
              "      <td>9.304143</td>\n",
              "    </tr>\n",
              "    <tr>\n",
              "      <th>1453</th>\n",
              "      <td>2020-02-22</td>\n",
              "      <td>17.227342</td>\n",
              "      <td>5.773049</td>\n",
              "      <td>13.119696</td>\n",
              "      <td>17.227275</td>\n",
              "      <td>17.227427</td>\n",
              "      <td>-7.841461</td>\n",
              "      <td>-7.841461</td>\n",
              "      <td>-7.841461</td>\n",
              "      <td>-0.040658</td>\n",
              "      <td>-0.040658</td>\n",
              "      <td>-0.040658</td>\n",
              "      <td>-7.800802</td>\n",
              "      <td>-7.800802</td>\n",
              "      <td>-7.800802</td>\n",
              "      <td>0.0</td>\n",
              "      <td>0.0</td>\n",
              "      <td>0.0</td>\n",
              "      <td>9.385881</td>\n",
              "    </tr>\n",
              "    <tr>\n",
              "      <th>1454</th>\n",
              "      <td>2020-02-23</td>\n",
              "      <td>17.226595</td>\n",
              "      <td>6.010307</td>\n",
              "      <td>12.875793</td>\n",
              "      <td>17.226508</td>\n",
              "      <td>17.226697</td>\n",
              "      <td>-7.835096</td>\n",
              "      <td>-7.835096</td>\n",
              "      <td>-7.835096</td>\n",
              "      <td>-0.035253</td>\n",
              "      <td>-0.035253</td>\n",
              "      <td>-0.035253</td>\n",
              "      <td>-7.799843</td>\n",
              "      <td>-7.799843</td>\n",
              "      <td>-7.799843</td>\n",
              "      <td>0.0</td>\n",
              "      <td>0.0</td>\n",
              "      <td>0.0</td>\n",
              "      <td>9.391500</td>\n",
              "    </tr>\n",
              "    <tr>\n",
              "      <th>1455</th>\n",
              "      <td>2020-02-24</td>\n",
              "      <td>17.225848</td>\n",
              "      <td>6.019639</td>\n",
              "      <td>12.960352</td>\n",
              "      <td>17.225745</td>\n",
              "      <td>17.225966</td>\n",
              "      <td>-7.886360</td>\n",
              "      <td>-7.886360</td>\n",
              "      <td>-7.886360</td>\n",
              "      <td>-0.100176</td>\n",
              "      <td>-0.100176</td>\n",
              "      <td>-0.100176</td>\n",
              "      <td>-7.786184</td>\n",
              "      <td>-7.786184</td>\n",
              "      <td>-7.786184</td>\n",
              "      <td>0.0</td>\n",
              "      <td>0.0</td>\n",
              "      <td>0.0</td>\n",
              "      <td>9.339488</td>\n",
              "    </tr>\n",
              "    <tr>\n",
              "      <th>1456</th>\n",
              "      <td>2020-02-25</td>\n",
              "      <td>17.225101</td>\n",
              "      <td>6.065003</td>\n",
              "      <td>12.718422</td>\n",
              "      <td>17.224982</td>\n",
              "      <td>17.225229</td>\n",
              "      <td>-7.794308</td>\n",
              "      <td>-7.794308</td>\n",
              "      <td>-7.794308</td>\n",
              "      <td>-0.036011</td>\n",
              "      <td>-0.036011</td>\n",
              "      <td>-0.036011</td>\n",
              "      <td>-7.758297</td>\n",
              "      <td>-7.758297</td>\n",
              "      <td>-7.758297</td>\n",
              "      <td>0.0</td>\n",
              "      <td>0.0</td>\n",
              "      <td>0.0</td>\n",
              "      <td>9.430793</td>\n",
              "    </tr>\n",
              "    <tr>\n",
              "      <th>1457</th>\n",
              "      <td>2020-02-26</td>\n",
              "      <td>17.224355</td>\n",
              "      <td>6.260406</td>\n",
              "      <td>13.345198</td>\n",
              "      <td>17.224220</td>\n",
              "      <td>17.224497</td>\n",
              "      <td>-7.504917</td>\n",
              "      <td>-7.504917</td>\n",
              "      <td>-7.504917</td>\n",
              "      <td>0.209929</td>\n",
              "      <td>0.209929</td>\n",
              "      <td>0.209929</td>\n",
              "      <td>-7.714845</td>\n",
              "      <td>-7.714845</td>\n",
              "      <td>-7.714845</td>\n",
              "      <td>0.0</td>\n",
              "      <td>0.0</td>\n",
              "      <td>0.0</td>\n",
              "      <td>9.719438</td>\n",
              "    </tr>\n",
              "    <tr>\n",
              "      <th>1458</th>\n",
              "      <td>2020-02-27</td>\n",
              "      <td>17.223608</td>\n",
              "      <td>6.185194</td>\n",
              "      <td>13.141652</td>\n",
              "      <td>17.223460</td>\n",
              "      <td>17.223767</td>\n",
              "      <td>-7.519354</td>\n",
              "      <td>-7.519354</td>\n",
              "      <td>-7.519354</td>\n",
              "      <td>0.135369</td>\n",
              "      <td>0.135369</td>\n",
              "      <td>0.135369</td>\n",
              "      <td>-7.654723</td>\n",
              "      <td>-7.654723</td>\n",
              "      <td>-7.654723</td>\n",
              "      <td>0.0</td>\n",
              "      <td>0.0</td>\n",
              "      <td>0.0</td>\n",
              "      <td>9.704254</td>\n",
              "    </tr>\n",
              "    <tr>\n",
              "      <th>1459</th>\n",
              "      <td>2020-02-28</td>\n",
              "      <td>17.222861</td>\n",
              "      <td>6.103761</td>\n",
              "      <td>12.803871</td>\n",
              "      <td>17.222706</td>\n",
              "      <td>17.223037</td>\n",
              "      <td>-7.710284</td>\n",
              "      <td>-7.710284</td>\n",
              "      <td>-7.710284</td>\n",
              "      <td>-0.133200</td>\n",
              "      <td>-0.133200</td>\n",
              "      <td>-0.133200</td>\n",
              "      <td>-7.577084</td>\n",
              "      <td>-7.577084</td>\n",
              "      <td>-7.577084</td>\n",
              "      <td>0.0</td>\n",
              "      <td>0.0</td>\n",
              "      <td>0.0</td>\n",
              "      <td>9.512577</td>\n",
              "    </tr>\n",
              "    <tr>\n",
              "      <th>1460</th>\n",
              "      <td>2020-02-29</td>\n",
              "      <td>17.222114</td>\n",
              "      <td>6.128568</td>\n",
              "      <td>13.270909</td>\n",
              "      <td>17.221946</td>\n",
              "      <td>17.222312</td>\n",
              "      <td>-7.522032</td>\n",
              "      <td>-7.522032</td>\n",
              "      <td>-7.522032</td>\n",
              "      <td>-0.040658</td>\n",
              "      <td>-0.040658</td>\n",
              "      <td>-0.040658</td>\n",
              "      <td>-7.481374</td>\n",
              "      <td>-7.481374</td>\n",
              "      <td>-7.481374</td>\n",
              "      <td>0.0</td>\n",
              "      <td>0.0</td>\n",
              "      <td>0.0</td>\n",
              "      <td>9.700082</td>\n",
              "    </tr>\n",
              "    <tr>\n",
              "      <th>1461</th>\n",
              "      <td>2020-03-01</td>\n",
              "      <td>17.221367</td>\n",
              "      <td>6.181363</td>\n",
              "      <td>13.232954</td>\n",
              "      <td>17.221183</td>\n",
              "      <td>17.221582</td>\n",
              "      <td>-7.402600</td>\n",
              "      <td>-7.402600</td>\n",
              "      <td>-7.402600</td>\n",
              "      <td>-0.035253</td>\n",
              "      <td>-0.035253</td>\n",
              "      <td>-0.035253</td>\n",
              "      <td>-7.367347</td>\n",
              "      <td>-7.367347</td>\n",
              "      <td>-7.367347</td>\n",
              "      <td>0.0</td>\n",
              "      <td>0.0</td>\n",
              "      <td>0.0</td>\n",
              "      <td>9.818767</td>\n",
              "    </tr>\n",
              "  </tbody>\n",
              "</table>\n",
              "</div>"
            ],
            "text/plain": [
              "             ds      trend  ...  multiplicative_terms_upper      yhat\n",
              "1432 2020-02-01  17.243027  ...                         0.0  9.572359\n",
              "1433 2020-02-02  17.242280  ...                         0.0  9.621942\n",
              "1434 2020-02-03  17.241533  ...                         0.0  9.595700\n",
              "1435 2020-02-04  17.240786  ...                         0.0  9.692401\n",
              "1436 2020-02-05  17.240039  ...                         0.0  9.964178\n",
              "1437 2020-02-06  17.239292  ...                         0.0  9.908316\n",
              "1438 2020-02-07  17.238545  ...                         0.0  9.651003\n",
              "1439 2020-02-08  17.237798  ...                         0.0  9.747222\n",
              "1440 2020-02-09  17.237052  ...                         0.0  9.748768\n",
              "1441 2020-02-10  17.236305  ...                         0.0  9.672690\n",
              "1442 2020-02-11  17.235558  ...                         0.0  9.718848\n",
              "1443 2020-02-12  17.234811  ...                         0.0  9.940588\n",
              "1444 2020-02-13  17.234064  ...                         0.0  9.836502\n",
              "1445 2020-02-14  17.233317  ...                         0.0  9.534157\n",
              "1446 2020-02-15  17.232570  ...                         0.0  9.589939\n",
              "1447 2020-02-16  17.231823  ...                         0.0  9.557047\n",
              "1448 2020-02-17  17.231076  ...                         0.0  9.453887\n",
              "1449 2020-02-18  17.230330  ...                         0.0  9.481597\n",
              "1450 2020-02-19  17.229583  ...                         0.0  9.694681\n",
              "1451 2020-02-20  17.228836  ...                         0.0  9.592737\n",
              "1452 2020-02-21  17.228089  ...                         0.0  9.304143\n",
              "1453 2020-02-22  17.227342  ...                         0.0  9.385881\n",
              "1454 2020-02-23  17.226595  ...                         0.0  9.391500\n",
              "1455 2020-02-24  17.225848  ...                         0.0  9.339488\n",
              "1456 2020-02-25  17.225101  ...                         0.0  9.430793\n",
              "1457 2020-02-26  17.224355  ...                         0.0  9.719438\n",
              "1458 2020-02-27  17.223608  ...                         0.0  9.704254\n",
              "1459 2020-02-28  17.222861  ...                         0.0  9.512577\n",
              "1460 2020-02-29  17.222114  ...                         0.0  9.700082\n",
              "1461 2020-03-01  17.221367  ...                         0.0  9.818767\n",
              "\n",
              "[30 rows x 19 columns]"
            ]
          },
          "metadata": {
            "tags": []
          },
          "execution_count": 11
        }
      ]
    },
    {
      "cell_type": "markdown",
      "metadata": {
        "id": "YDYZqBmjkSck",
        "colab_type": "text"
      },
      "source": [
        "### Test vs Prediction Plot"
      ]
    },
    {
      "cell_type": "code",
      "metadata": {
        "id": "YyfX6bYVAVhq",
        "colab_type": "code",
        "colab": {
          "base_uri": "https://localhost:8080/",
          "height": 549
        },
        "outputId": "7fdeaabe-340b-4a4f-942b-15827076d57b"
      },
      "source": [
        "test['ds'] = pd.to_datetime(test['ds'])\n",
        "ax = predictions.tail(30).plot(x = 'ds', y = 'yhat', label = 'Predictions', figsize = (12, 8), legend = True)\n",
        "test.plot(x = 'ds', y = 'y', label = 'Test', legend = True, ax = ax)"
      ],
      "execution_count": 12,
      "outputs": [
        {
          "output_type": "execute_result",
          "data": {
            "text/plain": [
              "<matplotlib.axes._subplots.AxesSubplot at 0x7fdff310d198>"
            ]
          },
          "metadata": {
            "tags": []
          },
          "execution_count": 12
        },
        {
          "output_type": "display_data",
          "data": {
            "image/png": "[encoded data removed]",
            "text/plain": [
              "<Figure size 864x576 with 1 Axes>"
            ]
          },
          "metadata": {
            "tags": []
          }
        }
      ]
    },
    {
      "cell_type": "markdown",
      "metadata": {
        "id": "aFJ7yubZkN76",
        "colab_type": "text"
      },
      "source": [
        "### RMSE"
      ]
    },
    {
      "cell_type": "code",
      "metadata": {
        "colab_type": "code",
        "outputId": "902096ec-8f99-4b34-a6f9-4259cb8469fc",
        "id": "wNOWW71RQUDM",
        "colab": {
          "base_uri": "https://localhost:8080/",
          "height": 102
        }
      },
      "source": [
        "print('RMSE = %s' % rmse(predictions['yhat'].tail(30), test['y']),\n",
        "      '\\n\\nTest Mean = %s' % test['y'].mean(),\n",
        "      '\\n\\nPredictions Mean = %s' % predictions['yhat'].tail(30).mean())"
      ],
      "execution_count": 13,
      "outputs": [
        {
          "output_type": "stream",
          "text": [
            "RMSE = 4.074788883012155 \n",
            "\n",
            "Test Mean = 11.226603045275057 \n",
            "\n",
            "Predictions Mean = 9.629382893257619\n"
          ],
          "name": "stdout"
        }
      ]
    },
    {
      "cell_type": "markdown",
      "metadata": {
        "id": "Icvygxkrkl1_",
        "colab_type": "text"
      },
      "source": [
        "### Running Cross-validation with Prophet Diagnostics"
      ]
    },
    {
      "cell_type": "code",
      "metadata": {
        "id": "AQH7ha2Lk71b",
        "colab_type": "code",
        "colab": {
          "base_uri": "https://localhost:8080/",
          "height": 34
        },
        "outputId": "fe0f1add-d370-4df3-d221-0261fab7e5aa"
      },
      "source": [
        "# Initial 5 months of training period\n",
        "initial = 365\n",
        "initial = str(initial) + ' days'\n",
        "initial"
      ],
      "execution_count": 14,
      "outputs": [
        {
          "output_type": "execute_result",
          "data": {
            "text/plain": [
              "'365 days'"
            ]
          },
          "metadata": {
            "tags": []
          },
          "execution_count": 14
        }
      ]
    },
    {
      "cell_type": "code",
      "metadata": {
        "id": "2dZ00WHOl2xt",
        "colab_type": "code",
        "colab": {
          "base_uri": "https://localhost:8080/",
          "height": 34
        },
        "outputId": "6377b669-71a9-44dc-a504-cbf11a1b7308"
      },
      "source": [
        "# Fold every 5 months\n",
        "period = 365\n",
        "period = str(period) + ' days'\n",
        "period"
      ],
      "execution_count": 15,
      "outputs": [
        {
          "output_type": "execute_result",
          "data": {
            "text/plain": [
              "'365 days'"
            ]
          },
          "metadata": {
            "tags": []
          },
          "execution_count": 15
        }
      ]
    },
    {
      "cell_type": "code",
      "metadata": {
        "id": "1z4opqb1mQJR",
        "colab_type": "code",
        "colab": {
          "base_uri": "https://localhost:8080/",
          "height": 34
        },
        "outputId": "66d1ee87-0808-4402-fcaf-b9921f134543"
      },
      "source": [
        "# Forecast 1 month into the future\n",
        "horizon = 30\n",
        "horizon = str(horizon) + ' days'\n",
        "horizon"
      ],
      "execution_count": 16,
      "outputs": [
        {
          "output_type": "execute_result",
          "data": {
            "text/plain": [
              "'30 days'"
            ]
          },
          "metadata": {
            "tags": []
          },
          "execution_count": 16
        }
      ]
    },
    {
      "cell_type": "code",
      "metadata": {
        "id": "wmDLC9j6mWGA",
        "colab_type": "code",
        "colab": {
          "base_uri": "https://localhost:8080/",
          "height": 453
        },
        "outputId": "b1cfb54f-0499-4e00-8eef-82177c72ea12"
      },
      "source": [
        "df_cv = cross_validation(model, initial = initial, period = period, horizon = horizon)\n",
        "df_cv"
      ],
      "execution_count": 17,
      "outputs": [
        {
          "output_type": "stream",
          "text": [
            "WARNING:fbprophet:Seasonality has period of 365.25 days which is larger than initial window. Consider increasing initial.\n",
            "INFO:fbprophet:Making 3 forecasts with cutoffs between 2018-01-01 00:00:00 and 2020-01-01 00:00:00\n"
          ],
          "name": "stderr"
        },
        {
          "output_type": "execute_result",
          "data": {
            "text/html": [
              "<div>\n",
              "<style scoped>\n",
              "    .dataframe tbody tr th:only-of-type {\n",
              "        vertical-align: middle;\n",
              "    }\n",
              "\n",
              "    .dataframe tbody tr th {\n",
              "        vertical-align: top;\n",
              "    }\n",
              "\n",
              "    .dataframe thead th {\n",
              "        text-align: right;\n",
              "    }\n",
              "</style>\n",
              "<table border=\"1\" class=\"dataframe\">\n",
              "  <thead>\n",
              "    <tr style=\"text-align: right;\">\n",
              "      <th></th>\n",
              "      <th>ds</th>\n",
              "      <th>yhat</th>\n",
              "      <th>yhat_lower</th>\n",
              "      <th>yhat_upper</th>\n",
              "      <th>y</th>\n",
              "      <th>cutoff</th>\n",
              "    </tr>\n",
              "  </thead>\n",
              "  <tbody>\n",
              "    <tr>\n",
              "      <th>0</th>\n",
              "      <td>2018-01-02</td>\n",
              "      <td>8.323420</td>\n",
              "      <td>5.020848</td>\n",
              "      <td>11.633751</td>\n",
              "      <td>8.782781</td>\n",
              "      <td>2018-01-01</td>\n",
              "    </tr>\n",
              "    <tr>\n",
              "      <th>1</th>\n",
              "      <td>2018-01-03</td>\n",
              "      <td>8.622053</td>\n",
              "      <td>4.926775</td>\n",
              "      <td>11.897320</td>\n",
              "      <td>10.290850</td>\n",
              "      <td>2018-01-01</td>\n",
              "    </tr>\n",
              "    <tr>\n",
              "      <th>2</th>\n",
              "      <td>2018-01-04</td>\n",
              "      <td>8.460040</td>\n",
              "      <td>4.999579</td>\n",
              "      <td>11.829564</td>\n",
              "      <td>12.698452</td>\n",
              "      <td>2018-01-01</td>\n",
              "    </tr>\n",
              "    <tr>\n",
              "      <th>3</th>\n",
              "      <td>2018-01-05</td>\n",
              "      <td>8.346140</td>\n",
              "      <td>4.987057</td>\n",
              "      <td>11.781040</td>\n",
              "      <td>14.070093</td>\n",
              "      <td>2018-01-01</td>\n",
              "    </tr>\n",
              "    <tr>\n",
              "      <th>4</th>\n",
              "      <td>2018-01-06</td>\n",
              "      <td>8.312372</td>\n",
              "      <td>4.746780</td>\n",
              "      <td>11.807170</td>\n",
              "      <td>15.554019</td>\n",
              "      <td>2018-01-01</td>\n",
              "    </tr>\n",
              "    <tr>\n",
              "      <th>...</th>\n",
              "      <td>...</td>\n",
              "      <td>...</td>\n",
              "      <td>...</td>\n",
              "      <td>...</td>\n",
              "      <td>...</td>\n",
              "      <td>...</td>\n",
              "    </tr>\n",
              "    <tr>\n",
              "      <th>85</th>\n",
              "      <td>2020-01-27</td>\n",
              "      <td>9.388298</td>\n",
              "      <td>5.956009</td>\n",
              "      <td>12.894517</td>\n",
              "      <td>9.288988</td>\n",
              "      <td>2020-01-01</td>\n",
              "    </tr>\n",
              "    <tr>\n",
              "      <th>86</th>\n",
              "      <td>2020-01-28</td>\n",
              "      <td>9.473324</td>\n",
              "      <td>5.995479</td>\n",
              "      <td>13.010971</td>\n",
              "      <td>8.849096</td>\n",
              "      <td>2020-01-01</td>\n",
              "    </tr>\n",
              "    <tr>\n",
              "      <th>87</th>\n",
              "      <td>2020-01-29</td>\n",
              "      <td>9.739341</td>\n",
              "      <td>6.185673</td>\n",
              "      <td>13.014416</td>\n",
              "      <td>9.575862</td>\n",
              "      <td>2020-01-01</td>\n",
              "    </tr>\n",
              "    <tr>\n",
              "      <th>88</th>\n",
              "      <td>2020-01-30</td>\n",
              "      <td>9.702427</td>\n",
              "      <td>6.117085</td>\n",
              "      <td>13.199075</td>\n",
              "      <td>7.854938</td>\n",
              "      <td>2020-01-01</td>\n",
              "    </tr>\n",
              "    <tr>\n",
              "      <th>89</th>\n",
              "      <td>2020-01-31</td>\n",
              "      <td>9.457509</td>\n",
              "      <td>5.850787</td>\n",
              "      <td>12.898839</td>\n",
              "      <td>9.438700</td>\n",
              "      <td>2020-01-01</td>\n",
              "    </tr>\n",
              "  </tbody>\n",
              "</table>\n",
              "<p>90 rows × 6 columns</p>\n",
              "</div>"
            ],
            "text/plain": [
              "           ds      yhat  yhat_lower  yhat_upper          y     cutoff\n",
              "0  2018-01-02  8.323420    5.020848   11.633751   8.782781 2018-01-01\n",
              "1  2018-01-03  8.622053    4.926775   11.897320  10.290850 2018-01-01\n",
              "2  2018-01-04  8.460040    4.999579   11.829564  12.698452 2018-01-01\n",
              "3  2018-01-05  8.346140    4.987057   11.781040  14.070093 2018-01-01\n",
              "4  2018-01-06  8.312372    4.746780   11.807170  15.554019 2018-01-01\n",
              "..        ...       ...         ...         ...        ...        ...\n",
              "85 2020-01-27  9.388298    5.956009   12.894517   9.288988 2020-01-01\n",
              "86 2020-01-28  9.473324    5.995479   13.010971   8.849096 2020-01-01\n",
              "87 2020-01-29  9.739341    6.185673   13.014416   9.575862 2020-01-01\n",
              "88 2020-01-30  9.702427    6.117085   13.199075   7.854938 2020-01-01\n",
              "89 2020-01-31  9.457509    5.850787   12.898839   9.438700 2020-01-01\n",
              "\n",
              "[90 rows x 6 columns]"
            ]
          },
          "metadata": {
            "tags": []
          },
          "execution_count": 17
        }
      ]
    },
    {
      "cell_type": "markdown",
      "metadata": {
        "id": "3k5ayjG7tdiR",
        "colab_type": "text"
      },
      "source": [
        "### Performance Metrics\n"
      ]
    },
    {
      "cell_type": "code",
      "metadata": {
        "id": "cqkD22TyqtAm",
        "colab_type": "code",
        "colab": {
          "base_uri": "https://localhost:8080/",
          "height": 917
        },
        "outputId": "0c0d1ed3-b72c-4ca1-8013-3a696f92de08"
      },
      "source": [
        "performance_metrics(df_cv)"
      ],
      "execution_count": 18,
      "outputs": [
        {
          "output_type": "execute_result",
          "data": {
            "text/html": [
              "<div>\n",
              "<style scoped>\n",
              "    .dataframe tbody tr th:only-of-type {\n",
              "        vertical-align: middle;\n",
              "    }\n",
              "\n",
              "    .dataframe tbody tr th {\n",
              "        vertical-align: top;\n",
              "    }\n",
              "\n",
              "    .dataframe thead th {\n",
              "        text-align: right;\n",
              "    }\n",
              "</style>\n",
              "<table border=\"1\" class=\"dataframe\">\n",
              "  <thead>\n",
              "    <tr style=\"text-align: right;\">\n",
              "      <th></th>\n",
              "      <th>horizon</th>\n",
              "      <th>mse</th>\n",
              "      <th>rmse</th>\n",
              "      <th>mae</th>\n",
              "      <th>mape</th>\n",
              "      <th>coverage</th>\n",
              "    </tr>\n",
              "  </thead>\n",
              "  <tbody>\n",
              "    <tr>\n",
              "      <th>0</th>\n",
              "      <td>3 days</td>\n",
              "      <td>8.925396</td>\n",
              "      <td>2.987540</td>\n",
              "      <td>2.367213</td>\n",
              "      <td>0.416006</td>\n",
              "      <td>0.666667</td>\n",
              "    </tr>\n",
              "    <tr>\n",
              "      <th>1</th>\n",
              "      <td>4 days</td>\n",
              "      <td>9.585335</td>\n",
              "      <td>3.096019</td>\n",
              "      <td>2.465637</td>\n",
              "      <td>0.312444</td>\n",
              "      <td>0.666667</td>\n",
              "    </tr>\n",
              "    <tr>\n",
              "      <th>2</th>\n",
              "      <td>5 days</td>\n",
              "      <td>12.822388</td>\n",
              "      <td>3.580836</td>\n",
              "      <td>2.590682</td>\n",
              "      <td>0.229610</td>\n",
              "      <td>0.666667</td>\n",
              "    </tr>\n",
              "    <tr>\n",
              "      <th>3</th>\n",
              "      <td>6 days</td>\n",
              "      <td>13.997500</td>\n",
              "      <td>3.741323</td>\n",
              "      <td>2.795834</td>\n",
              "      <td>0.236112</td>\n",
              "      <td>0.555556</td>\n",
              "    </tr>\n",
              "    <tr>\n",
              "      <th>4</th>\n",
              "      <td>7 days</td>\n",
              "      <td>15.794524</td>\n",
              "      <td>3.974232</td>\n",
              "      <td>3.342964</td>\n",
              "      <td>0.293638</td>\n",
              "      <td>0.444444</td>\n",
              "    </tr>\n",
              "    <tr>\n",
              "      <th>5</th>\n",
              "      <td>8 days</td>\n",
              "      <td>14.722366</td>\n",
              "      <td>3.836974</td>\n",
              "      <td>3.591590</td>\n",
              "      <td>0.327374</td>\n",
              "      <td>0.444444</td>\n",
              "    </tr>\n",
              "    <tr>\n",
              "      <th>6</th>\n",
              "      <td>9 days</td>\n",
              "      <td>12.963466</td>\n",
              "      <td>3.600481</td>\n",
              "      <td>3.244139</td>\n",
              "      <td>0.299005</td>\n",
              "      <td>0.555556</td>\n",
              "    </tr>\n",
              "    <tr>\n",
              "      <th>7</th>\n",
              "      <td>10 days</td>\n",
              "      <td>9.145154</td>\n",
              "      <td>3.024096</td>\n",
              "      <td>2.651828</td>\n",
              "      <td>0.276890</td>\n",
              "      <td>0.777778</td>\n",
              "    </tr>\n",
              "    <tr>\n",
              "      <th>8</th>\n",
              "      <td>11 days</td>\n",
              "      <td>6.765079</td>\n",
              "      <td>2.600977</td>\n",
              "      <td>2.415865</td>\n",
              "      <td>0.294222</td>\n",
              "      <td>0.888889</td>\n",
              "    </tr>\n",
              "    <tr>\n",
              "      <th>9</th>\n",
              "      <td>12 days</td>\n",
              "      <td>6.276409</td>\n",
              "      <td>2.505276</td>\n",
              "      <td>2.300242</td>\n",
              "      <td>0.324824</td>\n",
              "      <td>0.888889</td>\n",
              "    </tr>\n",
              "    <tr>\n",
              "      <th>10</th>\n",
              "      <td>13 days</td>\n",
              "      <td>5.601512</td>\n",
              "      <td>2.366751</td>\n",
              "      <td>2.059710</td>\n",
              "      <td>0.297497</td>\n",
              "      <td>0.888889</td>\n",
              "    </tr>\n",
              "    <tr>\n",
              "      <th>11</th>\n",
              "      <td>14 days</td>\n",
              "      <td>4.153928</td>\n",
              "      <td>2.038119</td>\n",
              "      <td>1.637354</td>\n",
              "      <td>0.247907</td>\n",
              "      <td>0.888889</td>\n",
              "    </tr>\n",
              "    <tr>\n",
              "      <th>12</th>\n",
              "      <td>15 days</td>\n",
              "      <td>3.982629</td>\n",
              "      <td>1.995653</td>\n",
              "      <td>1.601363</td>\n",
              "      <td>0.192263</td>\n",
              "      <td>0.888889</td>\n",
              "    </tr>\n",
              "    <tr>\n",
              "      <th>13</th>\n",
              "      <td>16 days</td>\n",
              "      <td>8.525381</td>\n",
              "      <td>2.919826</td>\n",
              "      <td>2.350983</td>\n",
              "      <td>0.255957</td>\n",
              "      <td>0.666667</td>\n",
              "    </tr>\n",
              "    <tr>\n",
              "      <th>14</th>\n",
              "      <td>17 days</td>\n",
              "      <td>12.935596</td>\n",
              "      <td>3.596609</td>\n",
              "      <td>3.206693</td>\n",
              "      <td>0.398075</td>\n",
              "      <td>0.444444</td>\n",
              "    </tr>\n",
              "    <tr>\n",
              "      <th>15</th>\n",
              "      <td>18 days</td>\n",
              "      <td>12.009199</td>\n",
              "      <td>3.465429</td>\n",
              "      <td>3.099678</td>\n",
              "      <td>0.403823</td>\n",
              "      <td>0.555556</td>\n",
              "    </tr>\n",
              "    <tr>\n",
              "      <th>16</th>\n",
              "      <td>19 days</td>\n",
              "      <td>7.656957</td>\n",
              "      <td>2.767121</td>\n",
              "      <td>2.516839</td>\n",
              "      <td>0.353951</td>\n",
              "      <td>0.777778</td>\n",
              "    </tr>\n",
              "    <tr>\n",
              "      <th>17</th>\n",
              "      <td>20 days</td>\n",
              "      <td>4.202655</td>\n",
              "      <td>2.050038</td>\n",
              "      <td>1.896046</td>\n",
              "      <td>0.260696</td>\n",
              "      <td>0.888889</td>\n",
              "    </tr>\n",
              "    <tr>\n",
              "      <th>18</th>\n",
              "      <td>21 days</td>\n",
              "      <td>4.111739</td>\n",
              "      <td>2.027742</td>\n",
              "      <td>1.892123</td>\n",
              "      <td>0.262092</td>\n",
              "      <td>0.888889</td>\n",
              "    </tr>\n",
              "    <tr>\n",
              "      <th>19</th>\n",
              "      <td>22 days</td>\n",
              "      <td>4.253935</td>\n",
              "      <td>2.062507</td>\n",
              "      <td>1.726107</td>\n",
              "      <td>0.254807</td>\n",
              "      <td>0.888889</td>\n",
              "    </tr>\n",
              "    <tr>\n",
              "      <th>20</th>\n",
              "      <td>23 days</td>\n",
              "      <td>3.615131</td>\n",
              "      <td>1.901350</td>\n",
              "      <td>1.672111</td>\n",
              "      <td>0.221739</td>\n",
              "      <td>1.000000</td>\n",
              "    </tr>\n",
              "    <tr>\n",
              "      <th>21</th>\n",
              "      <td>24 days</td>\n",
              "      <td>4.085815</td>\n",
              "      <td>2.021340</td>\n",
              "      <td>1.787056</td>\n",
              "      <td>0.218578</td>\n",
              "      <td>1.000000</td>\n",
              "    </tr>\n",
              "    <tr>\n",
              "      <th>22</th>\n",
              "      <td>25 days</td>\n",
              "      <td>5.037911</td>\n",
              "      <td>2.244529</td>\n",
              "      <td>2.119392</td>\n",
              "      <td>0.246870</td>\n",
              "      <td>1.000000</td>\n",
              "    </tr>\n",
              "    <tr>\n",
              "      <th>23</th>\n",
              "      <td>26 days</td>\n",
              "      <td>4.828390</td>\n",
              "      <td>2.197360</td>\n",
              "      <td>1.907511</td>\n",
              "      <td>0.231988</td>\n",
              "      <td>1.000000</td>\n",
              "    </tr>\n",
              "    <tr>\n",
              "      <th>24</th>\n",
              "      <td>27 days</td>\n",
              "      <td>3.760621</td>\n",
              "      <td>1.939232</td>\n",
              "      <td>1.489080</td>\n",
              "      <td>0.195927</td>\n",
              "      <td>1.000000</td>\n",
              "    </tr>\n",
              "    <tr>\n",
              "      <th>25</th>\n",
              "      <td>28 days</td>\n",
              "      <td>1.931439</td>\n",
              "      <td>1.389762</td>\n",
              "      <td>1.021711</td>\n",
              "      <td>0.125441</td>\n",
              "      <td>1.000000</td>\n",
              "    </tr>\n",
              "    <tr>\n",
              "      <th>26</th>\n",
              "      <td>29 days</td>\n",
              "      <td>1.589756</td>\n",
              "      <td>1.260855</td>\n",
              "      <td>1.006763</td>\n",
              "      <td>0.107559</td>\n",
              "      <td>1.000000</td>\n",
              "    </tr>\n",
              "    <tr>\n",
              "      <th>27</th>\n",
              "      <td>30 days</td>\n",
              "      <td>2.221795</td>\n",
              "      <td>1.490569</td>\n",
              "      <td>1.103409</td>\n",
              "      <td>0.103150</td>\n",
              "      <td>1.000000</td>\n",
              "    </tr>\n",
              "  </tbody>\n",
              "</table>\n",
              "</div>"
            ],
            "text/plain": [
              "   horizon        mse      rmse       mae      mape  coverage\n",
              "0   3 days   8.925396  2.987540  2.367213  0.416006  0.666667\n",
              "1   4 days   9.585335  3.096019  2.465637  0.312444  0.666667\n",
              "2   5 days  12.822388  3.580836  2.590682  0.229610  0.666667\n",
              "3   6 days  13.997500  3.741323  2.795834  0.236112  0.555556\n",
              "4   7 days  15.794524  3.974232  3.342964  0.293638  0.444444\n",
              "5   8 days  14.722366  3.836974  3.591590  0.327374  0.444444\n",
              "6   9 days  12.963466  3.600481  3.244139  0.299005  0.555556\n",
              "7  10 days   9.145154  3.024096  2.651828  0.276890  0.777778\n",
              "8  11 days   6.765079  2.600977  2.415865  0.294222  0.888889\n",
              "9  12 days   6.276409  2.505276  2.300242  0.324824  0.888889\n",
              "10 13 days   5.601512  2.366751  2.059710  0.297497  0.888889\n",
              "11 14 days   4.153928  2.038119  1.637354  0.247907  0.888889\n",
              "12 15 days   3.982629  1.995653  1.601363  0.192263  0.888889\n",
              "13 16 days   8.525381  2.919826  2.350983  0.255957  0.666667\n",
              "14 17 days  12.935596  3.596609  3.206693  0.398075  0.444444\n",
              "15 18 days  12.009199  3.465429  3.099678  0.403823  0.555556\n",
              "16 19 days   7.656957  2.767121  2.516839  0.353951  0.777778\n",
              "17 20 days   4.202655  2.050038  1.896046  0.260696  0.888889\n",
              "18 21 days   4.111739  2.027742  1.892123  0.262092  0.888889\n",
              "19 22 days   4.253935  2.062507  1.726107  0.254807  0.888889\n",
              "20 23 days   3.615131  1.901350  1.672111  0.221739  1.000000\n",
              "21 24 days   4.085815  2.021340  1.787056  0.218578  1.000000\n",
              "22 25 days   5.037911  2.244529  2.119392  0.246870  1.000000\n",
              "23 26 days   4.828390  2.197360  1.907511  0.231988  1.000000\n",
              "24 27 days   3.760621  1.939232  1.489080  0.195927  1.000000\n",
              "25 28 days   1.931439  1.389762  1.021711  0.125441  1.000000\n",
              "26 29 days   1.589756  1.260855  1.006763  0.107559  1.000000\n",
              "27 30 days   2.221795  1.490569  1.103409  0.103150  1.000000"
            ]
          },
          "metadata": {
            "tags": []
          },
          "execution_count": 18
        }
      ]
    },
    {
      "cell_type": "markdown",
      "metadata": {
        "id": "ytMbNyATtWVW",
        "colab_type": "text"
      },
      "source": [
        "### Cross-validation plot"
      ]
    },
    {
      "cell_type": "code",
      "metadata": {
        "id": "3oUsgQU2qDtQ",
        "colab_type": "code",
        "colab": {
          "base_uri": "https://localhost:8080/",
          "height": 388
        },
        "outputId": "d0d30681-6bb0-488a-dd64-ab4c8353fc5c"
      },
      "source": [
        "plot_cross_validation_metric(df_cv, metric='rmse');"
      ],
      "execution_count": 19,
      "outputs": [
        {
          "output_type": "display_data",
          "data": {
            "image/png": "[encoded data removed]",
            "text/plain": [
              "<Figure size 720x432 with 1 Axes>"
            ]
          },
          "metadata": {
            "tags": []
          }
        }
      ]
    }
  ]
}